{
 "cells": [
  {
   "cell_type": "markdown",
   "metadata": {},
   "source": [
    "Ejercicio #1"
   ]
  },
  {
   "cell_type": "code",
   "execution_count": 7,
   "metadata": {},
   "outputs": [
    {
     "name": "stdout",
     "output_type": "stream",
     "text": [
      "Tenemos 8 planetas\n",
      "Tenemos 9 planetas\n",
      "Pluton es el planeta # 9\n"
     ]
    }
   ],
   "source": [
    "planets = ['Mercurio', 'Venus', 'Tierra', 'Marte', 'Jupiter', 'Saturno', 'Urano', 'Nepturno']\n",
    "\n",
    "print('Tenemos', len(planets), 'planetas')\n",
    "planets.append('Pluton')\n",
    "print('Tenemos', len(planets), 'planetas')\n",
    "print(planets[-1],'es el planeta #', len(planets))"
   ]
  },
  {
   "cell_type": "markdown",
   "metadata": {},
   "source": [
    "Ejercicio 2"
   ]
  },
  {
   "cell_type": "code",
   "execution_count": 6,
   "metadata": {},
   "outputs": [
    {
     "name": "stdout",
     "output_type": "stream",
     "text": [
      "Estos planetas  ['Mercurio', 'Venus', 'Tierra'] estan mas cerca del sol que  Marte\n",
      "Estos planetas  ['Jupiter', 'Saturno', 'Urano'] estan mas lejos del sol que  Marte\n"
     ]
    }
   ],
   "source": [
    "planetas = ['Mercurio', 'Venus', 'Tierra', 'Marte', 'Jupiter', 'Saturno', 'Urano', 'Nepturno']\n",
    "nom_planeta= input(\"Ingrese nombre de algun planeta (La primera letra debe ser mayuscula):\")\n",
    "lugar_planeta_1 = planetas.index(nom_planeta)\n",
    "\n",
    "print('Estos planetas ',planetas[0:lugar_planeta_1],'estan mas cerca del sol que ', nom_planeta)\n",
    "print('Estos planetas ',planetas[1+lugar_planeta_1:-1],'estan mas lejos del sol que ', nom_planeta)"
   ]
  }
 ],
 "metadata": {
  "interpreter": {
   "hash": "2be5faf79681da6f2a61fdfdd5405d65d042280f7fba6178067603e3a2925119"
  },
  "kernelspec": {
   "display_name": "Python 3.10.2 64-bit",
   "language": "python",
   "name": "python3"
  },
  "language_info": {
   "codemirror_mode": {
    "name": "ipython",
    "version": 3
   },
   "file_extension": ".py",
   "mimetype": "text/x-python",
   "name": "python",
   "nbconvert_exporter": "python",
   "pygments_lexer": "ipython3",
   "version": "3.10.2"
  },
  "orig_nbformat": 4
 },
 "nbformat": 4,
 "nbformat_minor": 2
}
