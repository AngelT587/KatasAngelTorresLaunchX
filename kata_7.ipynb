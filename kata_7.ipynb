{
 "cells": [
  {
   "cell_type": "markdown",
   "metadata": {},
   "source": [
    "Ejercicio 1"
   ]
  },
  {
   "cell_type": "code",
   "execution_count": 25,
   "metadata": {},
   "outputs": [
    {
     "name": "stdout",
     "output_type": "stream",
     "text": [
      "Estos fueron los planetas que agrego :\n",
      "tierra\n",
      "marte \n",
      "jupiter\n"
     ]
    }
   ],
   "source": [
    "new_planet=''\n",
    "planet=[]\n",
    "while new_planet.lower() !='done':\n",
    "    new_planet= input('Introduzca nombres de planteas  (si desea ya no agregar planetas escriba done)')\n",
    "    \n",
    "    if new_planet:\n",
    "        planet.append(new_planet)\n",
    "print('Estos fueron los planetas que agrego :')\n",
    "for planet in planets:\n",
    "    print(planet)"
   ]
  }
 ],
 "metadata": {
  "interpreter": {
   "hash": "2be5faf79681da6f2a61fdfdd5405d65d042280f7fba6178067603e3a2925119"
  },
  "kernelspec": {
   "display_name": "Python 3.10.2 64-bit",
   "language": "python",
   "name": "python3"
  },
  "language_info": {
   "codemirror_mode": {
    "name": "ipython",
    "version": 3
   },
   "file_extension": ".py",
   "mimetype": "text/x-python",
   "name": "python",
   "nbconvert_exporter": "python",
   "pygments_lexer": "ipython3",
   "version": "3.10.2"
  },
  "orig_nbformat": 4
 },
 "nbformat": 4,
 "nbformat_minor": 2
}
