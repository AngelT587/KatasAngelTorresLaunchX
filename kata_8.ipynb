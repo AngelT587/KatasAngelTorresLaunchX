{
 "cells": [
  {
   "cell_type": "markdown",
   "metadata": {},
   "source": [
    "Ejercicio 1"
   ]
  },
  {
   "cell_type": "code",
   "execution_count": 4,
   "metadata": {},
   "outputs": [
    {
     "name": "stdout",
     "output_type": "stream",
     "text": [
      "el planeta Mars tiene 2 lunas\n",
      "el planeta Mars tiene una circunferencia de 6752 km\n"
     ]
    }
   ],
   "source": [
    "planet = {\n",
    "    'name': 'Mars',\n",
    "'moons': 2\n",
    "}\n",
    "print('el planeta',planet['name'],'tiene',planet['moons'],'lunas')\n",
    "planet['circunferencia (km)'] = {'polar': 6752,\n",
    "'equatorial': 6792\n",
    "}\n",
    "print('el planeta',planet['name'],'tiene una circunferencia de',planet['circunferencia (km)']['polar'],'km')\n"
   ]
  },
  {
   "cell_type": "code",
   "execution_count": 15,
   "metadata": {},
   "outputs": [
    {
     "name": "stdout",
     "output_type": "stream",
     "text": [
      "Lunas 214\n",
      "Promedio de lunas por planeta 17.833333333333332\n"
     ]
    }
   ],
   "source": [
    "planet_moons = {\n",
    "    'mercury': 0,\n",
    "    'venus': 0,\n",
    "    'earth': 1,\n",
    "    'mars': 2,\n",
    "    'jupiter': 79,\n",
    "    'saturn': 82,\n",
    "    'uranus': 27,\n",
    "    'neptune': 14,\n",
    "    'pluto': 5,\n",
    "    'haumea': 2,\n",
    "    'makemake': 1,\n",
    "    'eris': 1\n",
    "    }\n",
    "moons= planet_moons.values()\n",
    "total_moons=0\n",
    "for lunas in moons:\n",
    "        total_moons = total_moons+ lunas\n",
    "\n",
    "planets= len(planet_moons)\n",
    "print('Lunas',total_moons)\n",
    "average = total_moons / planets\n",
    "\n",
    "print('Promedio de lunas por planeta',average)"
   ]
  }
 ],
 "metadata": {
  "interpreter": {
   "hash": "2be5faf79681da6f2a61fdfdd5405d65d042280f7fba6178067603e3a2925119"
  },
  "kernelspec": {
   "display_name": "Python 3.10.2 64-bit",
   "language": "python",
   "name": "python3"
  },
  "language_info": {
   "codemirror_mode": {
    "name": "ipython",
    "version": 3
   },
   "file_extension": ".py",
   "mimetype": "text/x-python",
   "name": "python",
   "nbconvert_exporter": "python",
   "pygments_lexer": "ipython3",
   "version": "3.10.2"
  },
  "orig_nbformat": 4
 },
 "nbformat": 4,
 "nbformat_minor": 2
}
