{
 "cells": [
  {
   "cell_type": "markdown",
   "metadata": {},
   "source": [
    "Ejercicio #1"
   ]
  },
  {
   "cell_type": "code",
   "execution_count": 4,
   "metadata": {},
   "outputs": [
    {
     "name": "stdout",
     "output_type": "stream",
     "text": [
      "La velocidad de asteroide es de 49 km/s es hora de correeer\n"
     ]
    }
   ],
   "source": [
    "v_asteroide = 49\n",
    "v_max= 25\n",
    "if v_asteroide > v_max:\n",
    "    print(\"La velocidad de asteroide es de\",v_asteroide,\"km/s es hora de correeer\")\n",
    "else:\n",
    "    print(\"tranquilo, no pasa nada\")"
   ]
  },
  {
   "cell_type": "markdown",
   "metadata": {},
   "source": [
    "Ejercicio #2"
   ]
  },
  {
   "cell_type": "code",
   "execution_count": 5,
   "metadata": {},
   "outputs": [
    {
     "name": "stdout",
     "output_type": "stream",
     "text": [
      "no hay nada\n"
     ]
    }
   ],
   "source": [
    "v_asteroide = 49\n",
    "v_max= 25\n",
    "if v_asteroide > v_max:\n",
    "    print(\"La velocidad de asteroide es de\",v_asteroide,\"km/s es hora de correeer\")\n",
    "else:\n",
    "    print(\"tranquilo, no pasa nada\")"
   ]
  },
  {
   "cell_type": "markdown",
   "metadata": {},
   "source": [
    "Ejercicio #3"
   ]
  },
  {
   "cell_type": "code",
   "execution_count": 13,
   "metadata": {},
   "outputs": [
    {
     "name": "stdout",
     "output_type": "stream",
     "text": [
      "Que hermosos rayos de luz\n"
     ]
    }
   ],
   "source": [
    "v_asteroide = 30\n",
    "t_asteroide=20\n",
    "if v_asteroide > 25 and t_asteroide > 25:\n",
    "    print(\"Corran un asteroide\")\n",
    "elif v_asteroide>=20:\n",
    "    print(\"Que hermosos rayos de luz\")\n",
    "elif t_asteroide <25:\n",
    "    print(\"tranquilo, no pasa nada\")\n",
    "else:\n",
    "    print(\"tranquilo, no pasa nada\")"
   ]
  }
 ],
 "metadata": {
  "interpreter": {
   "hash": "33541a670e8887513ebdf0f19cec6625b51694c5ef6b1c7e83282c54d5cd54e5"
  },
  "kernelspec": {
   "display_name": "Python 3.10.0 64-bit",
   "language": "python",
   "name": "python3"
  },
  "language_info": {
   "codemirror_mode": {
    "name": "ipython",
    "version": 3
   },
   "file_extension": ".py",
   "mimetype": "text/x-python",
   "name": "python",
   "nbconvert_exporter": "python",
   "pygments_lexer": "ipython3",
   "version": "3.10.0"
  },
  "orig_nbformat": 4
 },
 "nbformat": 4,
 "nbformat_minor": 2
}
