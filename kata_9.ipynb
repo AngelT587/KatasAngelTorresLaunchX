{
 "cells": [
  {
   "cell_type": "markdown",
   "metadata": {},
   "source": [
    "Ejercicio 1"
   ]
  },
  {
   "cell_type": "code",
   "execution_count": 1,
   "metadata": {},
   "outputs": [
    {
     "name": "stdout",
     "output_type": "stream",
     "text": [
      "Promedio 78.0%\n",
      "    Combustible#1: 88%\n",
      "    Combustible#2: 76%\n",
      "    Combustible#3: 70% \n"
     ]
    }
   ],
   "source": [
    "def reporte(combu_1,combu_2,combu_3):\n",
    "    average= (combu_1 + combu_2 + combu_3 )/ 3\n",
    "    return f\"\"\"Promedio {average}%\n",
    "    Combustible#1: {combu_1}%\n",
    "    Combustible#2: {combu_2}%\n",
    "    Combustible#3: {combu_3}% \"\"\"\n",
    "print(reporte(88, 76, 70))"
   ]
  },
  {
   "cell_type": "code",
   "execution_count": 17,
   "metadata": {},
   "outputs": [
    {
     "name": "stdout",
     "output_type": "stream",
     "text": [
      "Promedio 78.0%\n",
      "    Combustible#1: 88%\n",
      "    Combustible#2: 76%\n",
      "    Combustible#3: 70% \n"
     ]
    }
   ],
   "source": [
    "def average(values):\n",
    "    total=sum(values)\n",
    "    num_values= len(values)\n",
    "    return total / num_values\n",
    "def reporte(combu_1,combu_2,combu_3):\n",
    "    return f\"\"\"Promedio {average([combu_1,combu_2,combu_3])}%\n",
    "    Combustible#1: {combu_1}%\n",
    "    Combustible#2: {combu_2}%\n",
    "    Combustible#3: {combu_3}% \"\"\"\n",
    "print(reporte(88, 76, 70))"
   ]
  },
  {
   "cell_type": "markdown",
   "metadata": {},
   "source": [
    "Ejercicio 2"
   ]
  },
  {
   "cell_type": "code",
   "execution_count": 3,
   "metadata": {},
   "outputs": [
    {
     "name": "stdout",
     "output_type": "stream",
     "text": [
      "\n",
      "    Nombre de la mision : Marte\n",
      "    Tiempo de vuelo : 163 minutos\n",
      "    Combustible restante: 570000 Litros\n",
      "    \n"
     ]
    }
   ],
   "source": [
    "def mision(pre_lanzamiento, tiempo_vuelo, destino, tanq_externo, tanq_principal):\n",
    "    return f\"\"\"\n",
    "    Nombre de la mision : {destino}\n",
    "    Tiempo de vuelo : {pre_lanzamiento + tiempo_vuelo} minutos\n",
    "    Combustible restante: {tanq_externo + tanq_principal} Litros\n",
    "    \"\"\"\n",
    "\n",
    "print(mision(13, 150, \"Marte\", 120000, 450000))"
   ]
  },
  {
   "cell_type": "code",
   "execution_count": 9,
   "metadata": {},
   "outputs": [
    {
     "name": "stdout",
     "output_type": "stream",
     "text": [
      "\n",
      "    Nombre de la mision : Saturno\n",
      "    Tiempo de vuelo : 75 minutos\n",
      "    Combustible restante: 1080000\n",
      "    \n"
     ]
    }
   ],
   "source": [
    "def mision(destino, *minutos, **comb_restante):\n",
    "    return f\"\"\"\n",
    "    Nombre de la mision : {destino}\n",
    "    Tiempo de vuelo : {sum(minutos)} minutos\n",
    "    Combustible restante: {sum(comb_restante.values())}\n",
    "    \"\"\"\n",
    "\n",
    "print(mision(\"Saturno\", 12, 12, 51, main=880000, external=200000))"
   ]
  },
  {
   "cell_type": "code",
   "execution_count": 14,
   "metadata": {},
   "outputs": [
    {
     "name": "stdout",
     "output_type": "stream",
     "text": [
      "\n",
      "    Nombre de la mision: jupiter\n",
      "    Tiempo de vuelo 74 minutos\n",
      "    Combustible restante: 500000\n",
      "     tanque principal: 300000 litros \n",
      " tanque externo: 200000 litros \n",
      "\n"
     ]
    }
   ],
   "source": [
    "def mision(destino, *minutos, **comb_restante):\n",
    "    main_report = f\"\"\"\n",
    "    Nombre de la mision: {destino}\n",
    "    Tiempo de vuelo {sum(minutos)} minutos\n",
    "    Combustible restante: {sum(comb_restante.values())}\n",
    "    \"\"\"\n",
    "    for tanque, litros in comb_restante.items():\n",
    "        main_report += f\" tanque {tanque}: {litros} litros \\n\"\n",
    "    return main_report\n",
    "\n",
    "print(mision(\"jupiter\", 8, 11, 55, principal=300000, externo=200000))"
   ]
  }
 ],
 "metadata": {
  "interpreter": {
   "hash": "2be5faf79681da6f2a61fdfdd5405d65d042280f7fba6178067603e3a2925119"
  },
  "kernelspec": {
   "display_name": "Python 3.10.2 64-bit",
   "language": "python",
   "name": "python3"
  },
  "language_info": {
   "codemirror_mode": {
    "name": "ipython",
    "version": 3
   },
   "file_extension": ".py",
   "mimetype": "text/x-python",
   "name": "python",
   "nbconvert_exporter": "python",
   "pygments_lexer": "ipython3",
   "version": "3.10.0"
  },
  "orig_nbformat": 4
 },
 "nbformat": 4,
 "nbformat_minor": 2
}
